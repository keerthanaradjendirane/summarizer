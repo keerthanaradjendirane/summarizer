{
 "cells": [
  {
   "cell_type": "code",
   "execution_count": null,
   "id": "644ec8e2",
   "metadata": {},
   "outputs": [
    {
     "name": "stdout",
     "output_type": "stream",
     "text": [
      "Speak now...\n",
      "Transcription: Hello. See, I'm speaking to you right now, right? So I want the words which I speak to you in a clear manner. I want you to transcribe the words which I speak here into a text. So after you transcribe the words which I speak into a text, I will be summarizing that with the help of a summarizer, or I will be creating a summarizer on my own. Or I'll be like, getting a summarizer from API key, and I'll be combining all the transcribed text, and I'll be summarizing the text which I got, and you will be getting that summarized text in a form of word. So this really process going right there. So I hope I and I want now what I spoke here. So please want that.\n",
      "Transcription: We note?\n",
      "Transcription: Hello. I hope you understand me and you get me clearly. So now I am speaking, and after I speak, I want a summary of what I speak. So the basic processes which goes in here are I speak and that speech converts into the form of x. And that text will be so that is called transcribing. And that is done via my own AI creation or existing a platform by sharing a API key. So that is the first step. And the next step will be transcribing that text into a form of summarization where that summarization will have the content of the text in a short form. So I, what, as our idea is, after summarizing, we will be sending uploading that in the form of word to a sort of different thing. Like uh, we'll be summarizing the form of word and we'll be sending it to the meridith admin. So this is all we are gonna do here. So I think this is what gonna happen, and I hope this will be happening in a very right manner. So that is all. So thank you, everything. Thank you.\n",
      "Transcription: To the side of the.\n"
     ]
    }
   ],
   "source": [
    "import tempfile\n",
    "import speech_recognition as sr\n",
    "import assemblyai as aai\n",
    "\n",
    "# Initialize the recognizer\n",
    "recognizer = sr.Recognizer()\n",
    "\n",
    "# Set up AssemblyAI API key\n",
    "aai.settings.api_key = \"dc62769570b1402d97f6ce79c836cd4d\"\n",
    "transcriber = aai.Transcriber()\n",
    "\n",
    "# Function to continuously convert speech to text and print in real-time\n",
    "def speech_to_text():\n",
    "    print(\"Speak now...\")\n",
    "    with sr.Microphone() as source:\n",
    "        while True:\n",
    "            audio = recognizer.listen(source)  # Listen to the microphone input\n",
    "\n",
    "            try:\n",
    "                # Save the audio to a temporary WAV file\n",
    "                with tempfile.NamedTemporaryFile(delete=False) as temp_file:\n",
    "                    temp_filename = temp_file.name\n",
    "                    recognizer.adjust_for_ambient_noise(source)\n",
    "                    temp_file.write(audio.get_wav_data())\n",
    "\n",
    "                # Transcribe the temporary WAV file using AssemblyAI\n",
    "                transcript = transcriber.transcribe(temp_filename)\n",
    "\n",
    "                # Print the transcribed text in real-time\n",
    "                print(\"Transcription:\", transcript.text)\n",
    "\n",
    "            except sr.UnknownValueError:\n",
    "                # Handle unrecognized speech\n",
    "                pass\n",
    "            except sr.RequestError as e:\n",
    "                # Handle errors from the recognition service\n",
    "                print(f\"Could not request results from AssemblyAI service; {e}\")\n",
    "\n",
    "# Call the function to start listening and transcribing in real-time\n",
    "speech_to_text()\n"
   ]
  },
  {
   "cell_type": "code",
   "execution_count": null,
   "id": "656de6b4",
   "metadata": {},
   "outputs": [],
   "source": []
  },
  {
   "cell_type": "code",
   "execution_count": null,
   "id": "70de6e42",
   "metadata": {},
   "outputs": [],
   "source": []
  },
  {
   "cell_type": "code",
   "execution_count": null,
   "id": "d6908f24",
   "metadata": {},
   "outputs": [],
   "source": []
  },
  {
   "cell_type": "code",
   "execution_count": null,
   "id": "7eabd0bc",
   "metadata": {},
   "outputs": [],
   "source": []
  },
  {
   "cell_type": "code",
   "execution_count": null,
   "id": "739aaeeb",
   "metadata": {},
   "outputs": [],
   "source": []
  },
  {
   "cell_type": "code",
   "execution_count": null,
   "id": "1adfa017",
   "metadata": {},
   "outputs": [],
   "source": []
  },
  {
   "cell_type": "code",
   "execution_count": null,
   "id": "470c448d",
   "metadata": {},
   "outputs": [],
   "source": []
  },
  {
   "cell_type": "code",
   "execution_count": null,
   "id": "951b3cef",
   "metadata": {},
   "outputs": [],
   "source": []
  },
  {
   "cell_type": "code",
   "execution_count": null,
   "id": "cf5e7976",
   "metadata": {},
   "outputs": [],
   "source": []
  },
  {
   "cell_type": "code",
   "execution_count": null,
   "id": "d662a109",
   "metadata": {},
   "outputs": [],
   "source": []
  },
  {
   "cell_type": "code",
   "execution_count": null,
   "id": "bd68f34b",
   "metadata": {},
   "outputs": [],
   "source": []
  },
  {
   "cell_type": "code",
   "execution_count": null,
   "id": "1d397595",
   "metadata": {},
   "outputs": [],
   "source": []
  },
  {
   "cell_type": "code",
   "execution_count": null,
   "id": "74769448",
   "metadata": {},
   "outputs": [],
   "source": []
  }
 ],
 "metadata": {
  "kernelspec": {
   "display_name": "Python 3 (ipykernel)",
   "language": "python",
   "name": "python3"
  },
  "language_info": {
   "codemirror_mode": {
    "name": "ipython",
    "version": 3
   },
   "file_extension": ".py",
   "mimetype": "text/x-python",
   "name": "python",
   "nbconvert_exporter": "python",
   "pygments_lexer": "ipython3",
   "version": "3.11.5"
  }
 },
 "nbformat": 4,
 "nbformat_minor": 5
}
